{
 "cells": [
  {
   "cell_type": "markdown",
   "id": "400b78b3",
   "metadata": {},
   "source": [
    "# Saturdays.AI Guadalajara 4a Ed. \n",
    "### Data Structures with Python\n",
    "\n",
    "#### Luis Román\n",
    "\n",
    "### Agosto de 2022"
   ]
  },
  {
   "cell_type": "markdown",
   "id": "04596faf",
   "metadata": {},
   "source": [
    "Una estructura de datos es una agregación de tipos de datos compuestos y atómicos \n",
    "en un conjunto con relaciones bien definidas. Una estructura significa un conjunto de \n",
    "reglas que contienen los datos juntos"
   ]
  },
  {
   "cell_type": "markdown",
   "id": "d82b8259",
   "metadata": {},
   "source": [
    "### Listas 🧳"
   ]
  },
  {
   "cell_type": "markdown",
   "id": "12d06c04",
   "metadata": {},
   "source": [
    "Estructura de datos lineal, mutable y versatil"
   ]
  },
  {
   "cell_type": "code",
   "execution_count": 35,
   "id": "0e24d316",
   "metadata": {},
   "outputs": [
    {
     "name": "stdout",
     "output_type": "stream",
     "text": [
      "['h', 'o', 'l', 'a']\n",
      "1\n",
      "0\n"
     ]
    },
    {
     "data": {
      "text/plain": [
       "[1, 2, 3, 4, 5, 6, 7, 8, 9, 0]"
      ]
     },
     "execution_count": 35,
     "metadata": {},
     "output_type": "execute_result"
    }
   ],
   "source": [
    "lista_vacia = []\n",
    "lista_numeros = [1,2,5,4,5,6,7,8,9,0]\n",
    "lista_generada = list(\"hola\")\n",
    "print(lista_generada)\n",
    "# Imprimir el primer valor\n",
    "print(lista_numeros[0])\n",
    "# Imprimir el último valor\n",
    "print(lista_numeros[-1])\n",
    "# Modificar un valor utilizando índices\n",
    "lista_numeros[2] = 3\n",
    "# Imprimir la lista final\n",
    "lista_numeros"
   ]
  },
  {
   "cell_type": "markdown",
   "id": "a609e1af",
   "metadata": {},
   "source": [
    "#### Métodos"
   ]
  },
  {
   "cell_type": "markdown",
   "id": "aae3273e",
   "metadata": {},
   "source": [
    "Para más información consultar: https://www.w3schools.com/python/python_ref_list.asp"
   ]
  },
  {
   "cell_type": "code",
   "execution_count": 29,
   "id": "e827ef5c",
   "metadata": {},
   "outputs": [
    {
     "name": "stdout",
     "output_type": "stream",
     "text": [
      "10\n",
      "[1]\n",
      "[]\n",
      "La lista ordenada es:  [0, 1, 2, 3, 4, 5, 6, 7, 8, 9]\n"
     ]
    },
    {
     "data": {
      "text/plain": [
       "1"
      ]
     },
     "execution_count": 29,
     "metadata": {},
     "output_type": "execute_result"
    }
   ],
   "source": [
    "# Método len(), para obtener la cantidad de valores contenidos\n",
    "print(len(lista_numeros))\n",
    "# Método append(), agrega un elemento al final de la lista\n",
    "lista_vacia.append(1)\n",
    "print(lista_vacia)\n",
    "# Método pop(), elimina el último elemento de la lista\n",
    "lista_vacia.pop()\n",
    "print(lista_vacia)\n",
    "# Método sort() ordena la lista \n",
    "lista_numeros.sort()\n",
    "print(\"La lista ordenada es: \", lista_numeros)\n",
    "# Localizar indice con el método index()\n",
    "lista_numeros.index(1)"
   ]
  },
  {
   "cell_type": "markdown",
   "id": "32cde744",
   "metadata": {},
   "source": [
    "#### Slices"
   ]
  },
  {
   "cell_type": "code",
   "execution_count": 17,
   "id": "c46174dc",
   "metadata": {},
   "outputs": [
    {
     "data": {
      "text/plain": [
       "['Sábado', 'Domingo']"
      ]
     },
     "execution_count": 17,
     "metadata": {},
     "output_type": "execute_result"
    }
   ],
   "source": [
    "dias_semana = [\"Lunes\", \"Martes\", \"Miércoles\", \"Jueves\", \"Viernes\", \"Sábado\", \"Domingo\"]\n",
    "fin_de_semana = dias_semana[5:]\n",
    "fin_de_semana"
   ]
  },
  {
   "cell_type": "markdown",
   "id": "89e9ac9a",
   "metadata": {},
   "source": [
    "#### Iteración"
   ]
  },
  {
   "cell_type": "code",
   "execution_count": 22,
   "id": "94d64c06",
   "metadata": {},
   "outputs": [
    {
     "name": "stdout",
     "output_type": "stream",
     "text": [
      "Lunes\n",
      "Martes\n",
      "Miércoles\n",
      "Jueves\n",
      "Viernes\n",
      "Sábado\n",
      "Domingo\n"
     ]
    }
   ],
   "source": [
    "# Iteración Simple\n",
    "for dia in dias_semana:\n",
    "    print(dia)"
   ]
  },
  {
   "cell_type": "code",
   "execution_count": 23,
   "id": "f74d6f3e",
   "metadata": {},
   "outputs": [
    {
     "name": "stdout",
     "output_type": "stream",
     "text": [
      "0 Lunes\n",
      "1 Martes\n",
      "2 Miércoles\n",
      "3 Jueves\n",
      "4 Viernes\n",
      "5 Sábado\n",
      "6 Domingo\n"
     ]
    }
   ],
   "source": [
    "# Iteración considerando el índice\n",
    "for indice, dia in enumerate(dias_semana):\n",
    "    print(indice, dia)"
   ]
  },
  {
   "cell_type": "markdown",
   "id": "c1830c70",
   "metadata": {},
   "source": [
    "#### Operadores it & not in"
   ]
  },
  {
   "cell_type": "code",
   "execution_count": 25,
   "id": "1911d496",
   "metadata": {},
   "outputs": [
    {
     "data": {
      "text/plain": [
       "False"
      ]
     },
     "execution_count": 25,
     "metadata": {},
     "output_type": "execute_result"
    }
   ],
   "source": [
    "\"Enero\" in dias_semana"
   ]
  },
  {
   "cell_type": "code",
   "execution_count": 48,
   "id": "ba9f4b18",
   "metadata": {},
   "outputs": [
    {
     "data": {
      "text/plain": [
       "True"
      ]
     },
     "execution_count": 48,
     "metadata": {},
     "output_type": "execute_result"
    }
   ],
   "source": [
    "\"Enero\" not in dias_semana"
   ]
  },
  {
   "cell_type": "markdown",
   "id": "25d3b6d1",
   "metadata": {},
   "source": [
    "### Tuplas 🧳"
   ]
  },
  {
   "cell_type": "markdown",
   "id": "d6329011",
   "metadata": {},
   "source": [
    "Estructura de datos lineal, inmutable y de mejor rendimiento"
   ]
  },
  {
   "cell_type": "code",
   "execution_count": 39,
   "id": "3eb0c20c",
   "metadata": {},
   "outputs": [
    {
     "data": {
      "text/plain": [
       "'Lunes'"
      ]
     },
     "execution_count": 39,
     "metadata": {},
     "output_type": "execute_result"
    }
   ],
   "source": [
    "tupla_dias_semana = (\"Lunes\", \"Martes\", \"Miércoles\", \"Jueves\", \"Viernes\", \"Sábado\", \"Domingo\")\n",
    "tupla_dias_semana[0]"
   ]
  },
  {
   "cell_type": "markdown",
   "id": "4cb62a12",
   "metadata": {},
   "source": [
    "#### Métodos"
   ]
  },
  {
   "cell_type": "code",
   "execution_count": 44,
   "id": "7714c7e3",
   "metadata": {},
   "outputs": [
    {
     "data": {
      "text/plain": [
       "1"
      ]
     },
     "execution_count": 44,
     "metadata": {},
     "output_type": "execute_result"
    }
   ],
   "source": [
    "# Método count\n",
    "tupla_dias_semana.count(\"Lunes\")"
   ]
  },
  {
   "cell_type": "code",
   "execution_count": 47,
   "id": "5e54a74a",
   "metadata": {},
   "outputs": [
    {
     "data": {
      "text/plain": [
       "4"
      ]
     },
     "execution_count": 47,
     "metadata": {},
     "output_type": "execute_result"
    }
   ],
   "source": [
    "# Método index\n",
    "tupla_dias_semana.index(\"Viernes\")"
   ]
  },
  {
   "cell_type": "markdown",
   "id": "16ae3362",
   "metadata": {},
   "source": [
    "#### Iteración"
   ]
  },
  {
   "cell_type": "code",
   "execution_count": 38,
   "id": "2bc4cfa7",
   "metadata": {},
   "outputs": [
    {
     "name": "stdout",
     "output_type": "stream",
     "text": [
      "0 Lunes\n",
      "1 Martes\n",
      "2 Miércoles\n",
      "3 Jueves\n",
      "4 Viernes\n",
      "5 Sábado\n",
      "6 Domingo\n"
     ]
    }
   ],
   "source": [
    "for index,dia in enumerate(tupla_dias_semana):\n",
    "    print(index, dia)"
   ]
  },
  {
   "cell_type": "markdown",
   "id": "aa0e00e1",
   "metadata": {},
   "source": [
    "#### Conversión entre listas y tuplas"
   ]
  },
  {
   "cell_type": "code",
   "execution_count": 49,
   "id": "9a364210",
   "metadata": {},
   "outputs": [
    {
     "data": {
      "text/plain": [
       "(1, 2, 3, 4)"
      ]
     },
     "execution_count": 49,
     "metadata": {},
     "output_type": "execute_result"
    }
   ],
   "source": [
    "list((1,2,3,4))\n",
    "tuple([1,2,3,4])"
   ]
  },
  {
   "cell_type": "markdown",
   "id": "fe55b6b9",
   "metadata": {},
   "source": [
    "### Diccionarios 📚"
   ]
  },
  {
   "cell_type": "markdown",
   "id": "6054dedc",
   "metadata": {},
   "source": [
    "Estructura de datos de tipo clave valor ordenada (python > 3.7)"
   ]
  },
  {
   "cell_type": "code",
   "execution_count": 53,
   "id": "4c286c50",
   "metadata": {},
   "outputs": [],
   "source": [
    "diccionario_vacio = {}\n",
    "diccionario_ejemplo = {\n",
    "    \"nombre\":\"Luis\",\n",
    "    \"apellido\":\"Román\",\n",
    "    \"edad\": 27\n",
    "}"
   ]
  },
  {
   "cell_type": "markdown",
   "id": "d05f587f",
   "metadata": {},
   "source": [
    "#### Métodos"
   ]
  },
  {
   "cell_type": "code",
   "execution_count": 56,
   "id": "06f4a738",
   "metadata": {},
   "outputs": [
    {
     "name": "stdout",
     "output_type": "stream",
     "text": [
      "Hola mi nombre es Luis Román y tengo 27 años\n"
     ]
    }
   ],
   "source": [
    "\"\"\"\n",
    "El método get() nos trae el valor de un diccionario utilizando la clave\n",
    "\"\"\"\n",
    "print(f'Hola mi nombre es {diccionario_ejemplo.get(\"nombre\",\"nombre\")} {diccionario_ejemplo.get(\"apellido\")} y tengo {diccionario_ejemplo.get(\"edad\")} años')"
   ]
  },
  {
   "cell_type": "code",
   "execution_count": 60,
   "id": "be49f02f",
   "metadata": {},
   "outputs": [
    {
     "name": "stdout",
     "output_type": "stream",
     "text": [
      "nombre\n",
      "apellido\n",
      "edad\n",
      "---------------\n",
      "Luis\n",
      "Román\n",
      "27\n"
     ]
    }
   ],
   "source": [
    "\"\"\"\n",
    "values() y keys() al momento de iterar diccionarios\n",
    "\"\"\"\n",
    "# Iteración de llaves\n",
    "for clave in diccionario_ejemplo.keys():\n",
    "    print(clave)\n",
    "    \n",
    "print(\"-\"*15)\n",
    "\n",
    "# Iteración de valores\n",
    "for valor in diccionario_ejemplo.values():\n",
    "    print(valor)"
   ]
  },
  {
   "cell_type": "code",
   "execution_count": null,
   "id": "570636b7",
   "metadata": {},
   "outputs": [],
   "source": []
  },
  {
   "cell_type": "code",
   "execution_count": null,
   "id": "572ca25a",
   "metadata": {},
   "outputs": [],
   "source": []
  },
  {
   "cell_type": "code",
   "execution_count": null,
   "id": "8f30b0ce",
   "metadata": {},
   "outputs": [],
   "source": []
  }
 ],
 "metadata": {
  "kernelspec": {
   "display_name": "Python 3 (ipykernel)",
   "language": "python",
   "name": "python3"
  },
  "language_info": {
   "codemirror_mode": {
    "name": "ipython",
    "version": 3
   },
   "file_extension": ".py",
   "mimetype": "text/x-python",
   "name": "python",
   "nbconvert_exporter": "python",
   "pygments_lexer": "ipython3",
   "version": "3.9.7"
  }
 },
 "nbformat": 4,
 "nbformat_minor": 5
}
